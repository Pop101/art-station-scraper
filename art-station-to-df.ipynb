{
 "cells": [
  {
   "cell_type": "code",
   "execution_count": 1,
   "metadata": {},
   "outputs": [],
   "source": [
    "import json\n",
    "import pandas as pd\n",
    "import numpy as np\n",
    "import os\n",
    "\n",
    "def files_to_df(dir_name):\n",
    "    \n",
    "    full_df = pd.DataFrame() # initialize full df compilation of files\n",
    "    files = os.listdir(dir_name) # get list of files in directory\n",
    "    print(f\"{len(files)} files found in {dir_name}\")\n",
    "\n",
    "    for i in files:\n",
    "        filename = os.path.join(dir_name, i)\n",
    "        with open(filename, 'r') as f:\n",
    "            data = json.loads(json.load(f))['data']\n",
    "            df = pd.DataFrame(data)\n",
    "        full_df = pd.concat([full_df, df], ignore_index = True) # join current json file to full df\n",
    "\n",
    "    # add a column of `null` values for where images will be stored\n",
    "    full_df['image'] = np.nan\n",
    "    \n",
    "    return full_df\n",
    "\n",
    "def check_for_images(df, query):\n",
    "    # populate image column with image file names, if they exist\n",
    "    for i in range(len(df)):\n",
    "        filename = f\"full_data/images/query_{query}/{df['hash_id'][i]}.jpg\" # name the image using its hash_id\n",
    "        if os.path.exists(filename):\n",
    "            df['image'][i] = filename\n",
    "    return df\n",
    "\n",
    "def df_to_json(query):\n",
    "    \n",
    "    print(f\"Converting json files in raw_data/query_{query} to dataframe.\")\n",
    "    df = files_to_df(f'raw_data/query_{query}')\n",
    "    print(f\"Shape of dataframe: {df.shape}\")\n",
    "        \n",
    "    # convert dataframe back to json and export it\n",
    "    os.makedirs('full_data', exist_ok=True)\n",
    "    export = df.to_json(f\"full_data/query_{query}.json\")\n",
    "    print(\"Export complete.\")\n",
    "    \n",
    "    return df"
   ]
  },
  {
   "cell_type": "code",
   "execution_count": null,
   "metadata": {},
   "outputs": [],
   "source": [
    "# set to process all images\n",
    "query = \"\""
   ]
  },
  {
   "cell_type": "code",
   "execution_count": null,
   "metadata": {},
   "outputs": [],
   "source": [
    "df = files_to_df(f'raw_data/query_{query}')\n",
    "df = check_for_images(df, query)\n",
    "df_to_json(query)"
   ]
  }
 ],
 "metadata": {
  "kernelspec": {
   "display_name": "Python 3 (ipykernel)",
   "language": "python",
   "name": "python3"
  },
  "language_info": {
   "codemirror_mode": {
    "name": "ipython",
    "version": 3
   },
   "file_extension": ".py",
   "mimetype": "text/x-python",
   "name": "python",
   "nbconvert_exporter": "python",
   "pygments_lexer": "ipython3",
   "version": "3.12.7"
  }
 },
 "nbformat": 4,
 "nbformat_minor": 2
}
