{
 "cells": [
  {
   "cell_type": "code",
   "execution_count": null,
   "metadata": {},
   "outputs": [],
   "source": [
    "import json\n",
    "import pandas as pd\n",
    "import numpy as np\n",
    "import os"
   ]
  },
  {
   "cell_type": "code",
   "execution_count": null,
   "metadata": {},
   "outputs": [],
   "source": [
    "import logging\n",
    "\n",
    "logging.basicConfig(\n",
    "    filename='run.log',\n",
    "    level=logging.INFO,\n",
    "    format='%(asctime)s - %(levelname)s - %(message)s',\n",
    ")\n"
   ]
  },
  {
   "cell_type": "code",
   "execution_count": 1,
   "metadata": {},
   "outputs": [],
   "source": [
    "def files_to_df(dir_name):\n",
    "    full_df = pd.DataFrame() # initialize full df compilation of files\n",
    "    files = os.listdir(dir_name) # get list of files in directory\n",
    "    logging.info(f\"{len(files)} files found in {dir_name}\")\n",
    "\n",
    "    for i in files:\n",
    "        filename = os.path.join(dir_name, i)\n",
    "        with open(filename, 'r') as f:\n",
    "            data = json.loads(json.load(f))['data']\n",
    "            df = pd.DataFrame(data)\n",
    "        full_df = pd.concat([full_df, df], ignore_index = True) # join current json file to full df\n",
    "\n",
    "    # add a column of `null` values for where images will be stored\n",
    "    full_df['image'] = np.nan\n",
    "    \n",
    "    return full_df\n",
    "\n",
    "def check_for_images(df, query):\n",
    "    # populate image column with image file names, if they exist\n",
    "    for i in range(len(df)):\n",
    "        filename = f\"full_data/images/query_{query}/{df['hash_id'][i]}.jpg\" # name the image using its hash_id\n",
    "        if os.path.exists(filename):\n",
    "            df['image'][i] = filename\n",
    "    return df\n",
    "\n",
    "def df_to_json(query):\n",
    "    \n",
    "    logging.info(f\"Converting json files in raw_data/query_{query} to dataframe.\")\n",
    "    df = files_to_df(f'raw_data/query_{query}')\n",
    "    logging.debug(f\"Shape of dataframe: {df.shape}\")\n",
    "        \n",
    "    # convert dataframe back to json and export it\n",
    "    os.makedirs('full_data', exist_ok=True)\n",
    "    export = df.to_json(f\"full_data/query_{query}.json\")\n",
    "    logging.info(\"Export complete.\")\n",
    "    \n",
    "    return df"
   ]
  },
  {
   "cell_type": "code",
   "execution_count": null,
   "metadata": {},
   "outputs": [],
   "source": [
    "# load query\n",
    "with open('query.txt', 'r') as f:\n",
    "    query = f.read().strip()"
   ]
  },
  {
   "cell_type": "code",
   "execution_count": null,
   "metadata": {},
   "outputs": [],
   "source": [
    "df = files_to_df(f'raw_data/query_{query}')\n",
    "df = check_for_images(df, query)\n",
    "df_to_json(query)"
   ]
  }
 ],
 "metadata": {
  "kernelspec": {
   "display_name": "Python 3 (ipykernel)",
   "language": "python",
   "name": "python3"
  }
 },
 "nbformat": 4,
 "nbformat_minor": 2
}
