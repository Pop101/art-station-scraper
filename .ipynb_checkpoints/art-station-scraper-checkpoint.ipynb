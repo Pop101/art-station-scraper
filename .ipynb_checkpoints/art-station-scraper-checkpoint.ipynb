{
 "cells": [
  {
   "cell_type": "code",
   "execution_count": 8,
   "metadata": {},
   "outputs": [],
   "source": [
    "import requests\n",
    "import json\n",
    "import os\n",
    "import time\n",
    "\n",
    "def get_data(query, page_start, page_end, short_pause=10, long_pause=60):\n",
    "\n",
    "    if page_start < 1:\n",
    "        print(\"Starting page number has to be greater than 0.\")\n",
    "        print(\"Process exiting with error.\")\n",
    "        return 0\n",
    "        \n",
    "    saved_files = []\n",
    "    urls_scraped = 0\n",
    "        \n",
    "    for page_number in range(page_start, page_end):\n",
    "\n",
    "        url = f\"https://www.artstation.com/api/v2/search/projects.json?page={page_number}&per_page=75&query={query}&sorting=relevance\"\n",
    "        \n",
    "        filename = f'raw_data/{query}/data_{page_number}.json'\n",
    "            \n",
    "        # only scrape url if json file of the url doesn't already exist\n",
    "        if not os.path.exists(filename):\n",
    "            client = requests.session()\n",
    "            r = client.get(url)\n",
    "            print(f\"Scraping {url} {r.status_code}: {r.reason}\")\n",
    "            \n",
    "            # check if rate-limit was exceeded.\n",
    "            if r.status_code == 429:\n",
    "                print(\"Rate-limit exceeded. Wait for a while and try running scraper again.\")\n",
    "                print(\"Process exiting with error.\")\n",
    "                return 0\n",
    "            \n",
    "            # if \"data\" in response text is empty, the max page has probably been reached.\n",
    "            data = json.loads(r.text)\n",
    "            if len(data['data']) == 0:\n",
    "                print(f\"Data list is empty. Query {query} has no data on page {page_number}.\")\n",
    "                print(f\"Max page for this query has probably been reached. Ending scraping process.\")\n",
    "                return 0\n",
    "            \n",
    "            # keep track of number of urls scraped\n",
    "            urls_scraped += 1 \n",
    "\n",
    "            # save file\n",
    "            print(f'Saving file as {filename}')\n",
    "            with open(filename, 'w', encoding='utf-8') as f:\n",
    "                json.dump(r.text, f, ensure_ascii=False, indent=4)\n",
    "                saved_files.append(filename)\n",
    "                \n",
    "            # take a short pause per url scraped\n",
    "            print(f\"Pausing scraper for {short_pause} seconds.\")\n",
    "            time.sleep(short_pause)\n",
    "        \n",
    "        else:\n",
    "            print(f'{filename} already exists. Skipping the current url.')\n",
    "\n",
    "        # take a long pause if 10 urls have been scraped\n",
    "        if urls_scraped > 0 and urls_scraped%10 == 0:\n",
    "            print(f\"Scraped {urls_scraped} urls.\")\n",
    "            print(f\"Pausing scraper for {long_pause} seconds.\")\n",
    "            time.sleep(long_pause)\n",
    "      \n",
    "    # process end summary\n",
    "    print(f\"Files saved: {saved_files}\")\n",
    "    print(f\"Process finished running.\")\n",
    "    return 1\n",
    "        \n"
   ]
  },
  {
   "cell_type": "code",
   "execution_count": 9,
   "metadata": {},
   "outputs": [
    {
     "name": "stdout",
     "output_type": "stream",
     "text": [
      "raw_data/noir/data_35.json already exists. Skipping the current url.\n",
      "Scraping https://www.artstation.com/api/v2/search/projects.json?page=36&per_page=75&query=noir&sorting=relevance 429: Too Many Requests\n",
      "Rate-limit exceeded. Wait for a while and try running scraper again.\n",
      "Process exiting with error.\n"
     ]
    },
    {
     "data": {
      "text/plain": [
       "0"
      ]
     },
     "execution_count": 9,
     "metadata": {},
     "output_type": "execute_result"
    }
   ],
   "source": [
    "genres = ['cyberpunk','noir','horror','western','cartoon','steampunk']\n",
    "\n",
    "# through trial and error: one scrape 35 pages MAX othewise 429 error\n",
    "get_data(genres[1], 35,  50) "
   ]
  },
  {
   "cell_type": "code",
   "execution_count": null,
   "metadata": {},
   "outputs": [],
   "source": []
  }
 ],
 "metadata": {
  "kernelspec": {
   "display_name": "Python 3",
   "language": "python",
   "name": "python3"
  },
  "language_info": {
   "codemirror_mode": {
    "name": "ipython",
    "version": 3
   },
   "file_extension": ".py",
   "mimetype": "text/x-python",
   "name": "python",
   "nbconvert_exporter": "python",
   "pygments_lexer": "ipython3",
   "version": "3.6.8"
  }
 },
 "nbformat": 4,
 "nbformat_minor": 2
}
