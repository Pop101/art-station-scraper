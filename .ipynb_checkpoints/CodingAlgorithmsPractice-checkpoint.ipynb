{
 "cells": [
  {
   "cell_type": "code",
   "execution_count": 6,
   "metadata": {},
   "outputs": [
    {
     "data": {
      "text/plain": [
       "1"
      ]
     },
     "execution_count": 6,
     "metadata": {},
     "output_type": "execute_result"
    }
   ],
   "source": [
    "def climbstairs(n):\n",
    "    if n == 1: return 1\n",
    "    else: return climbstairs(n-1)\n",
    "        \n",
    "climbstairs(2)"
   ]
  },
  {
   "cell_type": "code",
   "execution_count": 15,
   "metadata": {},
   "outputs": [
    {
     "data": {
      "text/plain": [
       "13"
      ]
     },
     "execution_count": 15,
     "metadata": {},
     "output_type": "execute_result"
    }
   ],
   "source": [
    "def climbstairs(n):\n",
    "    if n == 1: return 1\n",
    "    if n == 2: return 2\n",
    "    if n == 3: return 4\n",
    "    else: return climbstairs(n-3) + climbstairs(n-2) + climbstairs(n-1)\n",
    "        \n",
    "climbstairs(5)"
   ]
  },
  {
   "cell_type": "code",
   "execution_count": 40,
   "metadata": {},
   "outputs": [
    {
     "name": "stdout",
     "output_type": "stream",
     "text": [
      "4 is not in dct, storing 4 val as 7\n",
      "5 is not in dct, storing 5 val as 13\n"
     ]
    },
    {
     "data": {
      "text/plain": [
       "13"
      ]
     },
     "execution_count": 40,
     "metadata": {},
     "output_type": "execute_result"
    }
   ],
   "source": [
    "def stepPerms(n):\n",
    "    # store number of steps:number of paths as key:value pairs\n",
    "    dct = {1:1, 2:2, 3:4}\n",
    "    \n",
    "    for i in range(1,n+1):\n",
    "        if i not in dct:\n",
    "            print(f\"{i} is not in dct, storing {i} val as {dct[i-3] + dct[i-2] + dct[i-1]}\")\n",
    "            dct[i] = dct[i-3] + dct[i-2] + dct[i-1]\n",
    "            \n",
    "    return dct[n]\n",
    "\n",
    "\n",
    "stepPerms(5)"
   ]
  },
  {
   "cell_type": "code",
   "execution_count": 56,
   "metadata": {},
   "outputs": [
    {
     "data": {
      "text/plain": [
       "['cab', 'acb', 'abc']"
      ]
     },
     "execution_count": 56,
     "metadata": {},
     "output_type": "execute_result"
    }
   ],
   "source": [
    "def _insertCinS(s, c):\n",
    "    '''\n",
    "    lst = []\n",
    "    \n",
    "    for i in range(len(s)+1):\n",
    "        temp = s[:i] + c + s[i:]\n",
    "        lst.append(temp)\n",
    "        \n",
    "    return lst\n",
    "    '''\n",
    "\n",
    "    return [s[:i]+ c + s[i:] for i in range(len(s)+1)]\n",
    "\n",
    "_insertCinS('ab','c')"
   ]
  },
  {
   "cell_type": "code",
   "execution_count": 146,
   "metadata": {},
   "outputs": [
    {
     "data": {
      "text/plain": [
       "['dcba',\n",
       " 'cdba',\n",
       " 'cbda',\n",
       " 'cbad',\n",
       " 'dbca',\n",
       " 'bdca',\n",
       " 'bcda',\n",
       " 'bcad',\n",
       " 'dbac',\n",
       " 'bdac',\n",
       " 'badc',\n",
       " 'bacd',\n",
       " 'dcab',\n",
       " 'cdab',\n",
       " 'cadb',\n",
       " 'cabd',\n",
       " 'dacb',\n",
       " 'adcb',\n",
       " 'acdb',\n",
       " 'acbd',\n",
       " 'dabc',\n",
       " 'adbc',\n",
       " 'abdc',\n",
       " 'abcd']"
      ]
     },
     "execution_count": 146,
     "metadata": {},
     "output_type": "execute_result"
    }
   ],
   "source": [
    "def permString(s):\n",
    "    \n",
    "    res = []\n",
    "    \n",
    "    if len(s) == 1:\n",
    "        return s\n",
    "    \n",
    "    if len(s) == 2:\n",
    "        perm_lst = permString(s[:1])\n",
    "        for p in perm_lst:\n",
    "            res += _insertCinS(p, s[1])\n",
    "    \n",
    "    if len(s) == 3:\n",
    "        perm_lst = permString(s[:2])\n",
    "        for p in perm_lst:\n",
    "            res += _insertCinS(p, s[2])\n",
    "    \n",
    "    if len(s) == 4:\n",
    "        perm_lst = permString(s[:3])\n",
    "        for p in perm_lst:\n",
    "            res += _insertCinS(p, s[3])\n",
    "\n",
    "                    \n",
    "    return res\n",
    "    \n",
    "\n",
    "permString('abcd')   "
   ]
  },
  {
   "cell_type": "code",
   "execution_count": 150,
   "metadata": {},
   "outputs": [
    {
     "data": {
      "text/plain": [
       "['dcba',\n",
       " 'cdba',\n",
       " 'cbda',\n",
       " 'cbad',\n",
       " 'dbca',\n",
       " 'bdca',\n",
       " 'bcda',\n",
       " 'bcad',\n",
       " 'dbac',\n",
       " 'bdac',\n",
       " 'badc',\n",
       " 'bacd',\n",
       " 'dcab',\n",
       " 'cdab',\n",
       " 'cadb',\n",
       " 'cabd',\n",
       " 'dacb',\n",
       " 'adcb',\n",
       " 'acdb',\n",
       " 'acbd',\n",
       " 'dabc',\n",
       " 'adbc',\n",
       " 'abdc',\n",
       " 'abcd']"
      ]
     },
     "execution_count": 150,
     "metadata": {},
     "output_type": "execute_result"
    }
   ],
   "source": [
    "def permString(s):\n",
    "    \n",
    "    res = []\n",
    "    \n",
    "    if len(s) == 1: \n",
    "        return s\n",
    "    \n",
    "    for p in permString(s[:-1]): \n",
    "        res += [p[:i]+ s[-1] + p[i:] for i in range(len(p)+1)]\n",
    "        \n",
    "    return res\n",
    "                    \n",
    "permString('abcd')   "
   ]
  },
  {
   "cell_type": "code",
   "execution_count": 301,
   "metadata": {},
   "outputs": [
    {
     "data": {
      "text/plain": [
       "[[1], [2], [2, 1], [3], [3, 1], [3, 2], [3, 2, 1]]"
      ]
     },
     "execution_count": 301,
     "metadata": {},
     "output_type": "execute_result"
    }
   ],
   "source": [
    "# return all subsets of a set\n",
    "'''\n",
    "if a set is {1}, then the subset is itself:\n",
    "{1}\n",
    "\n",
    "if a set is {1,2}, then the subsets are:\n",
    "{1},{2},{1,2} \n",
    "That means in addition to the previous set, it returns the new number (2) and the combination of previous\n",
    "number of itself {1} + {2} = {1,2}\n",
    "\n",
    "if a set is {1,2,3}, then the subsets are:\n",
    "{1}, {2}, {3}, {1,2}, {1,3}, {2,3}, {1,2,3}\n",
    "In addition to the previous set, it returns the new number (3) and the combinations of the previous elements\n",
    "and itself, {1 + 3} = {1,3}, {2 + 3} = {2,3}, {1,2 + 3} = {1,2,3}\n",
    "\n",
    "if a set is {1,2,3,4}, let's try implementing the recursive pattern:\n",
    "It returns the previous set:\n",
    "{1}, {2}, {3}, {1,2}, {1,3}, {2,3}, {1,2,3}\n",
    "It returns itself:\n",
    "{4}\n",
    "for each element in the previous set, it adds itself:\n",
    "{1,4}, {2,4}, {3,4}, {1,2,4}, {1,3,4}, {2,3,4}, {1,2,3,4}\n",
    "\n",
    "'''\n",
    "\n",
    "def powerSet(s):\n",
    "\n",
    "    if len(s) == 1:\n",
    "        return [s]\n",
    "    \n",
    "    new_el = s[-1]\n",
    "    sets_to_combine_with = powerSet(s[:-1])\n",
    "    subsets = sets_to_combine_with + [[new_el]]\n",
    "    subsets += [[new_el] + se for se in sets_to_combine_with]\n",
    "    \n",
    "    return subsets\n",
    "\n",
    "    \n",
    "powerSet([1,2,3])\n"
   ]
  },
  {
   "cell_type": "code",
   "execution_count": 354,
   "metadata": {},
   "outputs": [
    {
     "data": {
      "text/plain": [
       "[[1],\n",
       " [2],\n",
       " [2, 1],\n",
       " [3],\n",
       " [3, 1],\n",
       " [3, 2],\n",
       " [3, 2, 1],\n",
       " [4],\n",
       " [4, 1],\n",
       " [4, 2],\n",
       " [4, 2, 1],\n",
       " [4, 3],\n",
       " [4, 3, 1],\n",
       " [4, 3, 2],\n",
       " [4, 3, 2, 1]]"
      ]
     },
     "execution_count": 354,
     "metadata": {},
     "output_type": "execute_result"
    }
   ],
   "source": [
    "# clean memoized power set\n",
    "\n",
    "def powerSet(s):\n",
    "\n",
    "    # since first element will just return itself, initialize the dict with it\n",
    "    dct = {repr([s[0]]):[[s[0]]]}\n",
    "    \n",
    "    # bottom up algo\n",
    "    for i in range(1,len(s)+1): # go through the set starting from the 2nd element (since 1st is alrdy in dct) and continuously elongating\n",
    "        if repr(s[:i]) not in dct: # if element is not in dct\n",
    "            new_el = s[i-1]\n",
    "            subsets = dct[repr(s[:i-1])] + [[new_el]]\n",
    "            subsets += [[new_el] + se for se in dct[repr(s[:i-1])]] # generate subsets\n",
    "            dct[repr(s[:i])] = subsets # key = stringified version of set, value = subsets for the given stringified set\n",
    "    \n",
    "    # after generating key:value pairs of smaller subsets, return the full set's subsets\n",
    "    return dct[repr(s)]\n",
    "\n",
    "    \n",
    "powerSet([1,2,3,4])"
   ]
  },
  {
   "cell_type": "code",
   "execution_count": 348,
   "metadata": {},
   "outputs": [
    {
     "data": {
      "text/plain": [
       "[[1],\n",
       " [2],\n",
       " [2, 1],\n",
       " [3],\n",
       " [3, 1],\n",
       " [3, 2],\n",
       " [3, 2, 1],\n",
       " [4],\n",
       " [4, 1],\n",
       " [4, 2],\n",
       " [4, 2, 1],\n",
       " [4, 3],\n",
       " [4, 3, 1],\n",
       " [4, 3, 2],\n",
       " [4, 3, 2, 1]]"
      ]
     },
     "execution_count": 348,
     "metadata": {},
     "output_type": "execute_result"
    }
   ],
   "source": [
    "# optimize it\n",
    "# we want to memoize the sets_to_combine_with since we're repeatedly generating the sets \n",
    "# for shorter and shorter lists when we actually already have those sets\n",
    "\n",
    "\n",
    "def powerSet(s):\n",
    "    \n",
    "    # let the key:value pairs be tuple(set):subsets\n",
    "    # use tuples that are immutable and allowed as a valid hash key\n",
    "    # list is mutable and so not allowed as hash key\n",
    "    dct = {repr([s[0]]):[[s[0]]]}\n",
    "    #print(dct)\n",
    "\n",
    "    for i in range(1,len(s)+1):\n",
    "        if repr(s[:i]) not in dct:\n",
    "            #print(f\"{repr(s[:i])} not in dct, so adding it to dct\")\n",
    "            sets_to_combine_with = dct[repr(s[:i-1])]\n",
    "            #print(f\"sets to combine with is {dct[repr(s[:i-1])]}\")\n",
    "            #print(f\"new el is {s[i-1]}\")\n",
    "            new_el = s[i-1]\n",
    "            #print(f\"Adding {[[new_el]]} to {sets_to_combine_with}\")\n",
    "            subsets = sets_to_combine_with + [[new_el]]\n",
    "            subsets += [[new_el] + se for se in sets_to_combine_with]\n",
    "            #print(f\"Subsets is {subsets}\")\n",
    "            dct[repr(s[:i])] = subsets\n",
    "            #print(dct)\n",
    "    \n",
    "    return dct[repr(s)]\n",
    "\n",
    "    \n",
    "powerSet([1,2,3,4])"
   ]
  },
  {
   "cell_type": "code",
   "execution_count": 290,
   "metadata": {},
   "outputs": [
    {
     "data": {
      "text/plain": [
       "[[3], [2], [1], [2, 1], [3, 2], [3, 1], [3, 2, 1]]"
      ]
     },
     "execution_count": 290,
     "metadata": {},
     "output_type": "execute_result"
    }
   ],
   "source": [
    "# return all subsets of a set\n",
    "'''\n",
    "if a set is {1}, then the subset is itself:\n",
    "{1}\n",
    "\n",
    "if a set is {1,2}, then the subsets are:\n",
    "{1},{2},{1,2} \n",
    "That means in addition to the previous set, it returns the new number (2) and the combination of previous\n",
    "number of itself {1} + {2} = {1,2}\n",
    "\n",
    "if a set is {1,2,3}, then the subsets are:\n",
    "{1}, {2}, {3}, {1,2}, {1,3}, {2,3}, {1,2,3}\n",
    "In addition to the previous set, it returns the new number (3) and the combinations of the previous elements\n",
    "and itself, {1 + 3} = {1,3}, {2 + 3} = {2,3}, {1,2 + 3} = {1,2,3}\n",
    "\n",
    "if a set is {1,2,3,4}, let's try implementing the recursive pattern:\n",
    "It returns the previous set:\n",
    "{1}, {2}, {3}, {1,2}, {1,3}, {2,3}, {1,2,3}\n",
    "It returns itself:\n",
    "{4}\n",
    "for each element in the previous set, it adds itself:\n",
    "{1,4}, {2,4}, {3,4}, {1,2,4}, {1,3,4}, {2,3,4}, {1,2,3,4}\n",
    "\n",
    "'''\n",
    "\n",
    "# lets say s = [1,2]\n",
    "\n",
    "def powerSet(s):\n",
    "\n",
    "    subsets = []\n",
    "    \n",
    "    if len(s) == 1:\n",
    "        return s\n",
    "    \n",
    "    if len(s) == 2:\n",
    "        new_el = s[-1]\n",
    "        sets_to_combine_with = powerSet([s[:-1]])\n",
    "        subsets.append([new_el])\n",
    "        subsets += sets_to_combine_with\n",
    "        new_lst = [[new_el] + se for se in sets_to_combine_with]\n",
    "        subsets += new_lst\n",
    "        return subsets\n",
    "    \n",
    "    if len(s) == 3:\n",
    "        new_el = s[-1]\n",
    "        sets_to_combine_with = powerSet(s[:-1])\n",
    "        subsets.append([new_el])\n",
    "        subsets += sets_to_combine_with\n",
    "        new_lst = [[new_el] + se for se in sets_to_combine_with]\n",
    "        subsets += new_lst\n",
    "        return subsets\n",
    "    \n",
    "    if len(s) >= 4:\n",
    "        new_el = s[-1]\n",
    "        sets_to_combine_with = powerSet(s[:-1])\n",
    "        subsets.append([new_el])\n",
    "        subsets += sets_to_combine_with\n",
    "        new_lst = [[new_el] + se for se in sets_to_combine_with]\n",
    "        subsets += new_lst\n",
    "        return subsets\n",
    "    \n",
    "powerSet([1,2,3])\n"
   ]
  },
  {
   "cell_type": "code",
   "execution_count": 514,
   "metadata": {},
   "outputs": [
    {
     "name": "stdout",
     "output_type": "stream",
     "text": [
      "\n",
      "Since [1, 2, 3, 4] has length 4,\n",
      "n>=3, Going into recursion\n",
      "\n",
      "Since [2, 3, 4] has length 3,\n",
      "n>=3, Going into recursion\n",
      "\n",
      "Since [3, 4] has length 2,\n",
      "Carrying out n=2 steps\n",
      "Current stack: [3, 4]\n",
      "Moving 4 from current stack to helper stack\n",
      "Helper stack: [4]\n",
      "Moving 3 from current stack to target stack\n",
      "Target stack: [3]\n",
      "Moving 4 from helper stack to target stack\n",
      "Target stack: [3, 4]\n",
      "Helper stack: []\n",
      "Current stack: []\n",
      "n>=3 Exit recursion\n",
      "\n",
      "Moving 2 from current stack to target stack\n",
      "Target stack: [2]\n",
      "\n",
      "n>=3 Going into 2nd recursion to rebuild (n-1)-disk tower on target stack\n",
      "\n",
      "Since [3, 4] has length 2,\n",
      "Carrying out n=2 steps\n",
      "Current stack: [3, 4]\n",
      "Moving 4 from current stack to helper stack\n",
      "Helper stack: [4]\n",
      "Moving 3 from current stack to target stack\n",
      "Target stack: [2, 3]\n",
      "Moving 4 from helper stack to target stack\n",
      "Target stack: [2, 3, 4]\n",
      "Helper stack: []\n",
      "Current stack: []\n",
      "Exit recursion\n",
      "n>=3 Exit recursion\n",
      "\n",
      "Moving 1 from current stack to target stack\n",
      "Target stack: [1]\n",
      "\n",
      "n>=3 Going into 2nd recursion to rebuild (n-1)-disk tower on target stack\n",
      "\n",
      "Since [2, 3, 4] has length 3,\n",
      "n>=3, Going into recursion\n",
      "\n",
      "Since [3, 4] has length 2,\n",
      "Carrying out n=2 steps\n",
      "Current stack: [3, 4]\n",
      "Moving 4 from current stack to helper stack\n",
      "Helper stack: [1, 4]\n",
      "Moving 3 from current stack to target stack\n",
      "Target stack: [3]\n",
      "Moving 4 from helper stack to target stack\n",
      "Target stack: [3, 4]\n",
      "Helper stack: [1]\n",
      "Current stack: []\n",
      "n>=3 Exit recursion\n",
      "\n",
      "Moving 2 from current stack to target stack\n",
      "Target stack: [1, 2]\n",
      "\n",
      "n>=3 Going into 2nd recursion to rebuild (n-1)-disk tower on target stack\n",
      "\n",
      "Since [3, 4] has length 2,\n",
      "Carrying out n=2 steps\n",
      "Current stack: [3, 4]\n",
      "Moving 4 from current stack to helper stack\n",
      "Helper stack: [4]\n",
      "Moving 3 from current stack to target stack\n",
      "Target stack: [1, 2, 3]\n",
      "Moving 4 from helper stack to target stack\n",
      "Target stack: [1, 2, 3, 4]\n",
      "Helper stack: []\n",
      "Current stack: []\n",
      "Exit recursion\n",
      "Exit recursion\n"
     ]
    },
    {
     "data": {
      "text/plain": [
       "([], [2, 3, 4], [1, 2, 3, 4])"
      ]
     },
     "execution_count": 514,
     "metadata": {},
     "output_type": "execute_result"
    }
   ],
   "source": [
    "def movedisk(current_stack, target_stack, helper_stack):\n",
    "\n",
    "    n = len(current_stack) # number of disks in current stack\n",
    "    \n",
    "    print(f\"\\nSince {current_stack} has length {n},\")\n",
    "\n",
    "    if n == 0:\n",
    "        return\n",
    "    \n",
    "    if n == 1:\n",
    "        disk = current_stack.pop()\n",
    "        target_stack.append(disk)\n",
    "    \n",
    "    if n == 2:\n",
    "        print(f\"Carrying out n=2 steps\")\n",
    "        print(f\"Current stack: {current_stack}\")\n",
    "        moving_disk = current_stack.pop()\n",
    "        print(f\"Moving {moving_disk} from current stack to helper stack\")\n",
    "        helper_stack.append(moving_disk) # move smallest disk to helper stack\n",
    "        print(f\"Helper stack: {helper_stack}\")\n",
    "        base_disk = current_stack.pop() \n",
    "        print(f\"Moving {base_disk} from current stack to target stack\")\n",
    "        target_stack.append(base_disk) # move base disk to target stack\n",
    "        print(f\"Target stack: {target_stack}\")\n",
    "        moving_disk = helper_stack.pop() \n",
    "        print(f\"Moving {moving_disk} from helper stack to target stack\")\n",
    "        target_stack.append(moving_disk) # move smallest disk to target stack\n",
    "        print(f\"Target stack: {target_stack}\")\n",
    "        print(f\"Helper stack: {helper_stack}\")\n",
    "        print(f\"Current stack: {current_stack}\")\n",
    "        \n",
    "    if n >= 3:\n",
    "        print(f\"n>=3, Going into recursion\")\n",
    "        movedisk(current_stack[1:], helper_stack, target_stack) # build a 2 tower on the helper stack\n",
    "        print(f\"n>=3 Exit recursion\")\n",
    "        current_stack = current_stack[:1] # current stack is only the base left \n",
    "        base_disk = current_stack.pop()\n",
    "        print(f\"\\nMoving {base_disk} from current stack to target stack\")\n",
    "        target_stack.append(base_disk)\n",
    "        print(f\"Target stack: {target_stack}\")\n",
    "        \n",
    "        print(f\"\\nn>=3 Going into 2nd recursion to rebuild (n-1)-disk tower on target stack\")\n",
    "        movedisk(helper_stack, target_stack, current_stack) # build a 2 tower on the target stack\n",
    "        print(f\"Exit recursion\")\n",
    "            \n",
    "    return current_stack, helper_stack, target_stack\n",
    "\n",
    "        \n",
    "cols = [[1,2,3,4],[],[]] \n",
    "movedisk(cols[0], cols[2], cols[1])"
   ]
  },
  {
   "cell_type": "code",
   "execution_count": 457,
   "metadata": {},
   "outputs": [
    {
     "data": {
      "text/plain": [
       "[1]"
      ]
     },
     "execution_count": 457,
     "metadata": {},
     "output_type": "execute_result"
    }
   ],
   "source": [
    "a = [1,2,3]\n",
    "a[:1]"
   ]
  }
 ],
 "metadata": {
  "kernelspec": {
   "display_name": "Python 3",
   "language": "python",
   "name": "python3"
  },
  "language_info": {
   "codemirror_mode": {
    "name": "ipython",
    "version": 3
   },
   "file_extension": ".py",
   "mimetype": "text/x-python",
   "name": "python",
   "nbconvert_exporter": "python",
   "pygments_lexer": "ipython3",
   "version": "3.6.8"
  }
 },
 "nbformat": 4,
 "nbformat_minor": 2
}
